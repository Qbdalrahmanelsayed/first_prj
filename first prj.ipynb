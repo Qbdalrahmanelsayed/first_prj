{
 "cells": [
  {
   "cell_type": "code",
   "execution_count": 9,
   "id": "e1bf24dd-84a5-4484-b449-c4355cac8f40",
   "metadata": {},
   "outputs": [
    {
     "name": "stdin",
     "output_type": "stream",
     "text": [
      "enter the number  5 4 8 9 6 \n"
     ]
    }
   ],
   "source": [
    "number=input (\"enter the number \").split()\n",
    "number = list(map(int , number))\n",
    "even=[]\n",
    "sum1=0"
   ]
  },
  {
   "cell_type": "code",
   "execution_count": 10,
   "id": "3c3f9cfd-a9b9-4ed2-813c-d15134de0473",
   "metadata": {},
   "outputs": [
    {
     "name": "stdout",
     "output_type": "stream",
     "text": [
      "[4, 8, 6]\n",
      "18\n"
     ]
    }
   ],
   "source": [
    "for num in number:\n",
    "    if num %2==0:\n",
    "        even.append(num)\n",
    "        sum1+= num\n",
    "print(even)\n",
    "print(sum1)"
   ]
  },
  {
   "cell_type": "code",
   "execution_count": 13,
   "id": "5d2ae0dc-7c0a-4fe4-9444-ed436d0a5f1a",
   "metadata": {},
   "outputs": [
    {
     "name": "stdin",
     "output_type": "stream",
     "text": [
      "enter the number 10\n"
     ]
    },
    {
     "name": "stdout",
     "output_type": "stream",
     "text": [
      "the sum18 ,is greater than thershold\n"
     ]
    }
   ],
   "source": [
    "thershold= int(input(\"enter the number\"))\n",
    "if sum1 >thershold:\n",
    "    print(f\"the sum{sum1} ,is greater than thershold\")\n",
    "elif sum1 < thershold:\n",
    "    print(f\"the sum {sum1} ,is smaller than thershold\") "
   ]
  },
  {
   "cell_type": "code",
   "execution_count": 14,
   "id": "adc8cfb9-a025-4a45-8ec6-dc9e84ce0944",
   "metadata": {},
   "outputs": [
    {
     "name": "stdin",
     "output_type": "stream",
     "text": [
      "enter your name abdalrahman\n",
      "enter your age 16\n"
     ]
    }
   ],
   "source": [
    "name=input(\"enter your name\")\n",
    "age=float(input(\"enter your age\"))\n"
   ]
  },
  {
   "cell_type": "code",
   "execution_count": 19,
   "id": "6b847dbc-a262-4b5b-a85b-db18eddc48d3",
   "metadata": {},
   "outputs": [
    {
     "name": "stdout",
     "output_type": "stream",
     "text": [
      "hello  abdalrahman\n",
      "your age is 16.0 \n"
     ]
    }
   ],
   "source": [
    "print(f\"hello  {name}\\nyour age is {age} \")"
   ]
  },
  {
   "cell_type": "code",
   "execution_count": 30,
   "id": "c11e3535-0fa3-4fd5-9189-b31aeab5867b",
   "metadata": {},
   "outputs": [
    {
     "name": "stdout",
     "output_type": "stream",
     "text": [
      "<class 'int'>\n"
     ]
    }
   ],
   "source": [
    "x=16\n",
    "type (float(x))\n",
    "print(type(x))"
   ]
  },
  {
   "cell_type": "code",
   "execution_count": 31,
   "id": "520e6b3a-c875-49ec-8135-c14b49f89aa2",
   "metadata": {},
   "outputs": [
    {
     "data": {
      "text/plain": [
       "str"
      ]
     },
     "execution_count": 31,
     "metadata": {},
     "output_type": "execute_result"
    }
   ],
   "source": [
    "age=17\n",
    "type(str(age))\n"
   ]
  },
  {
   "cell_type": "code",
   "execution_count": 32,
   "id": "a425aeac-3dc0-4f68-acf5-f22da72d3dff",
   "metadata": {},
   "outputs": [
    {
     "name": "stdout",
     "output_type": "stream",
     "text": [
      "<class 'int'>\n"
     ]
    }
   ],
   "source": [
    "print(type(age))"
   ]
  },
  {
   "cell_type": "code",
   "execution_count": 34,
   "id": "1efa174f-83af-4027-aeaa-245b248ac2ae",
   "metadata": {},
   "outputs": [
    {
     "data": {
      "text/plain": [
       "int"
      ]
     },
     "execution_count": 34,
     "metadata": {},
     "output_type": "execute_result"
    }
   ],
   "source": [
    "x='16'\n",
    "y=int(x)\n",
    "type(y)"
   ]
  },
  {
   "cell_type": "code",
   "execution_count": 44,
   "id": "eb7a61f0-53f2-4f09-a874-98dc210455cb",
   "metadata": {},
   "outputs": [
    {
     "data": {
      "text/plain": [
       "'abdalrahman'"
      ]
     },
     "execution_count": 44,
     "metadata": {},
     "output_type": "execute_result"
    }
   ],
   "source": [
    "name=\"ABDALRAHMAN\"\n",
    "name.lower()\n"
   ]
  },
  {
   "cell_type": "code",
   "execution_count": 48,
   "id": "4a7f38a3-6472-4381-afc5-abf0fbf5c098",
   "metadata": {},
   "outputs": [
    {
     "name": "stdout",
     "output_type": "stream",
     "text": [
      "Mobica International School\n",
      "MOBICA INTERNATIONAL SCHOOL\n",
      "mobica international school\n"
     ]
    }
   ],
   "source": [
    "title=\"mobica international school\"\n",
    "print(title.title())\n",
    "print(title.upper())\n",
    "print(title.lower())\n"
   ]
  },
  {
   "cell_type": "code",
   "execution_count": 53,
   "id": "00a4ec6b-5d5c-48e9-b2cd-bca9e88b3e34",
   "metadata": {},
   "outputs": [
    {
     "name": "stdin",
     "output_type": "stream",
     "text": [
      "enter the number 10\n",
      "enter the number 0\n"
     ]
    },
    {
     "name": "stdout",
     "output_type": "stream",
     "text": [
      "can not division\n"
     ]
    },
    {
     "name": "stdin",
     "output_type": "stream",
     "text": [
      "enter the number 10\n"
     ]
    },
    {
     "name": "stdout",
     "output_type": "stream",
     "text": [
      "1.0\n"
     ]
    }
   ],
   "source": [
    "def calc (num_1,num_2):\n",
    "    num_1=float(input (\"enter the number\"))\n",
    "    num_2=float(input(\"enter the number\"))\n",
    "    while num_2 ==0:\n",
    "        print(\"can not division\")\n",
    "        num_2=int(input(\"enter the number\"))\n",
    "    print(num_1/num_2)\n",
    "calc (0,0)\n"
   ]
  },
  {
   "cell_type": "code",
   "execution_count": null,
   "id": "9c65fce8-cbb4-4d3f-8e07-fe641d2530ce",
   "metadata": {},
   "outputs": [],
   "source": []
  }
 ],
 "metadata": {
  "kernelspec": {
   "display_name": "Python 3 (ipykernel)",
   "language": "python",
   "name": "python3"
  },
  "language_info": {
   "codemirror_mode": {
    "name": "ipython",
    "version": 3
   },
   "file_extension": ".py",
   "mimetype": "text/x-python",
   "name": "python",
   "nbconvert_exporter": "python",
   "pygments_lexer": "ipython3",
   "version": "3.13.0"
  }
 },
 "nbformat": 4,
 "nbformat_minor": 5
}
